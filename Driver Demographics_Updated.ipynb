{
 "cells": [
  {
   "cell_type": "markdown",
   "metadata": {},
   "source": [
    "# Lewis Hamilton v. Top Drivers\n",
    "\n",
    "![title](lewis.jpg)\n",
    "\n",
    "Lewis Hamilton is a six-time Forumla One World Champion and lightly regarded as the greatest Formula One Driver of all time. He won his first World Driver's Championship with McLaren in 2008 and then moved to Mercedes, where he proceeded to win his 5 remaining titles. The notebook will observe Hamilton in comparison to his competitors. What records and how many does he hold? How did he fare in races compared to other legends? Finally, is the driver or their car that decides success?"
   ]
  },
  {
   "cell_type": "code",
   "execution_count": 1,
   "metadata": {},
   "outputs": [],
   "source": [
    "# import dependencies\n",
    "\n",
    "import numpy as np\n",
    "import pandas as pd\n",
    "import datetime as datetime\n",
    "import matplotlib.pyplot as plt\n",
    "import seaborn as sns \n",
    "import warnings\n",
    "import gmaps\n",
    "from datetime import date\n",
    "from api_keys import g_key\n",
    "warnings.filterwarnings(\"ignore\")"
   ]
  },
  {
   "cell_type": "code",
   "execution_count": 2,
   "metadata": {},
   "outputs": [],
   "source": [
    "#create functions\n",
    "\n",
    "def getMiliSeconds(time):\n",
    "    try:\n",
    "        if '.' in time:\n",
    "            x = datetime.datetime.strptime(time,'%M:%S.%f')\n",
    "        elif ',' in time:\n",
    "            x = datetime.datetime.strptime(time,'%M:%S,%f')\n",
    "        else:\n",
    "            x = datetime.datetime.strptime(time,'%M:%S:%f')\n",
    "        return datetime.timedelta(minutes=x.minute,seconds=x.second, microseconds = x.microsecond).total_seconds()\n",
    "    except:\n",
    "        x = datetime.datetime.strptime(str(time).split('.')[0],'%M:%S:%f')\n",
    "        return datetime.timedelta(minutes=x.minute,seconds=x.second, microseconds = x.microsecond).total_seconds()\n",
    "\n",
    "def wins_per_year(driverRef, year):\n",
    "    try:\n",
    "        return topTenYears.loc[(topTenYears['driverRef'] == driverRef) & (topTenYears['positionOrder'] == 1) & (topTenYears['year'] == year)].groupby('driverId')['raceId'].count().values[0]\n",
    "    except:\n",
    "        return 0\n",
    "\n",
    "def championsInYears(years, driverRef):\n",
    "    total = []\n",
    "    t = 0\n",
    "    for year in years:\n",
    "        winner = r.loc[r['year']== year].groupby('driverRef')['points'].sum().sort_values(ascending = False).index[0]\n",
    "        if winner == driverRef:\n",
    "            t = t + 1\n",
    "        total.append(t)\n",
    "    return total\n",
    "\n",
    "def calculate_age(born):\n",
    "        born = datetime.datetime.strptime(born, \"%m/%d/%Y\").date()\n",
    "        today = date.today()\n",
    "        return today.year - born.year - ((today.month, today.day) < (born.month, born.day))"
   ]
  },
  {
   "cell_type": "code",
   "execution_count": 3,
   "metadata": {},
   "outputs": [
    {
     "data": {
      "text/html": [
       "<div>\n",
       "<style scoped>\n",
       "    .dataframe tbody tr th:only-of-type {\n",
       "        vertical-align: middle;\n",
       "    }\n",
       "\n",
       "    .dataframe tbody tr th {\n",
       "        vertical-align: top;\n",
       "    }\n",
       "\n",
       "    .dataframe thead th {\n",
       "        text-align: right;\n",
       "    }\n",
       "</style>\n",
       "<table border=\"1\" class=\"dataframe\">\n",
       "  <thead>\n",
       "    <tr style=\"text-align: right;\">\n",
       "      <th></th>\n",
       "      <th>Position</th>\n",
       "      <th>Points</th>\n",
       "      <th>DOB</th>\n",
       "      <th>Driver_Nationality</th>\n",
       "      <th>Driver_Name</th>\n",
       "      <th>Race_Year</th>\n",
       "      <th>Race_Name</th>\n",
       "      <th>Contractor</th>\n",
       "      <th>Contractor_Nationality</th>\n",
       "      <th>Age</th>\n",
       "    </tr>\n",
       "  </thead>\n",
       "  <tbody>\n",
       "    <tr>\n",
       "      <th>104</th>\n",
       "      <td>3</td>\n",
       "      <td>15.0</td>\n",
       "      <td>1/7/1985</td>\n",
       "      <td>British</td>\n",
       "      <td>Lewis Hamilton</td>\n",
       "      <td>2010</td>\n",
       "      <td>Bahrain Grand Prix</td>\n",
       "      <td>McLaren</td>\n",
       "      <td>British</td>\n",
       "      <td>35</td>\n",
       "    </tr>\n",
       "    <tr>\n",
       "      <th>105</th>\n",
       "      <td>7</td>\n",
       "      <td>6.0</td>\n",
       "      <td>1/19/1980</td>\n",
       "      <td>British</td>\n",
       "      <td>Jenson Button</td>\n",
       "      <td>2010</td>\n",
       "      <td>Bahrain Grand Prix</td>\n",
       "      <td>McLaren</td>\n",
       "      <td>British</td>\n",
       "      <td>40</td>\n",
       "    </tr>\n",
       "    <tr>\n",
       "      <th>106</th>\n",
       "      <td>6</td>\n",
       "      <td>8.0</td>\n",
       "      <td>1/7/1985</td>\n",
       "      <td>British</td>\n",
       "      <td>Lewis Hamilton</td>\n",
       "      <td>2010</td>\n",
       "      <td>Australian Grand Prix</td>\n",
       "      <td>McLaren</td>\n",
       "      <td>British</td>\n",
       "      <td>35</td>\n",
       "    </tr>\n",
       "    <tr>\n",
       "      <th>107</th>\n",
       "      <td>1</td>\n",
       "      <td>25.0</td>\n",
       "      <td>1/19/1980</td>\n",
       "      <td>British</td>\n",
       "      <td>Jenson Button</td>\n",
       "      <td>2010</td>\n",
       "      <td>Australian Grand Prix</td>\n",
       "      <td>McLaren</td>\n",
       "      <td>British</td>\n",
       "      <td>40</td>\n",
       "    </tr>\n",
       "    <tr>\n",
       "      <th>108</th>\n",
       "      <td>6</td>\n",
       "      <td>8.0</td>\n",
       "      <td>1/7/1985</td>\n",
       "      <td>British</td>\n",
       "      <td>Lewis Hamilton</td>\n",
       "      <td>2010</td>\n",
       "      <td>Malaysian Grand Prix</td>\n",
       "      <td>McLaren</td>\n",
       "      <td>British</td>\n",
       "      <td>35</td>\n",
       "    </tr>\n",
       "  </tbody>\n",
       "</table>\n",
       "</div>"
      ],
      "text/plain": [
       "     Position  Points        DOB Driver_Nationality     Driver_Name  \\\n",
       "104         3    15.0   1/7/1985            British  Lewis Hamilton   \n",
       "105         7     6.0  1/19/1980            British   Jenson Button   \n",
       "106         6     8.0   1/7/1985            British  Lewis Hamilton   \n",
       "107         1    25.0  1/19/1980            British   Jenson Button   \n",
       "108         6     8.0   1/7/1985            British  Lewis Hamilton   \n",
       "\n",
       "     Race_Year              Race_Name Contractor Contractor_Nationality  Age  \n",
       "104       2010     Bahrain Grand Prix    McLaren                British   35  \n",
       "105       2010     Bahrain Grand Prix    McLaren                British   40  \n",
       "106       2010  Australian Grand Prix    McLaren                British   35  \n",
       "107       2010  Australian Grand Prix    McLaren                British   40  \n",
       "108       2010   Malaysian Grand Prix    McLaren                British   35  "
      ]
     },
     "execution_count": 3,
     "metadata": {},
     "output_type": "execute_result"
    }
   ],
   "source": [
    "#read in CSVs and create a clean data frame\n",
    "\n",
    "df_races  = pd.read_csv('Resources/races.csv')\n",
    "df_drivers = pd.read_csv('Resources/drivers.csv',encoding='latin1')\n",
    "df_constructors = pd.read_csv('Resources/constructors.csv',encoding='latin-1')\n",
    "df_results = pd.read_csv('Resources/results.csv',encoding='latin-1')\n",
    "\n",
    "df_drivers['fullName'] = df_drivers['forename'] +\" \"+ df_drivers['surname']\n",
    "results = pd.merge(df_results,df_drivers, on='driverId',how='inner')\n",
    "\n",
    "df1 = results[['raceId','driverId','constructorId','positionOrder','points','dob','nationality','fullName']].copy()\n",
    "race_data = pd.merge(df1,df_races, on='raceId',how='inner')\n",
    "\n",
    "df2 = race_data[['raceId','driverId','constructorId','positionOrder','points','dob','nationality','fullName','year','name']].copy()\n",
    "constructor_data = pd.merge(df2,df_constructors, on='constructorId',how='inner')\n",
    "\n",
    "df3 = constructor_data [['positionOrder','points','dob','nationality_x','fullName','year','name_x','name_y','nationality_y']].copy()\n",
    "\n",
    "df4 = df3.rename(columns={'positionOrder': 'Position', \n",
    "                          'points': 'Points', \n",
    "                          'dob' : 'DOB', \n",
    "                          'nationality_x':'Driver_Nationality',\n",
    "                          'fullName':'Driver_Name',\n",
    "                          'year':'Race_Year',\n",
    "                          'name_x':'Race_Name',\n",
    "                          'name_y':'Contractor',\n",
    "                          'nationality_y':'Contractor_Nationality'})\n",
    "\n",
    "clean_data = df4[df4[\"Race_Year\"] >=2010 ]\n",
    "clean_data['Age'] = clean_data['DOB'].apply(calculate_age)\n",
    "\n",
    "        \n",
    "clean_data.head()"
   ]
  },
  {
   "cell_type": "code",
   "execution_count": 4,
   "metadata": {},
   "outputs": [
    {
     "name": "stdout",
     "output_type": "stream",
     "text": [
      "<class 'pandas.core.frame.DataFrame'>\n",
      "Int64Index: 4537 entries, 104 to 11082\n",
      "Data columns (total 10 columns):\n",
      " #   Column                  Non-Null Count  Dtype  \n",
      "---  ------                  --------------  -----  \n",
      " 0   Position                4537 non-null   int64  \n",
      " 1   Points                  4537 non-null   float64\n",
      " 2   DOB                     4537 non-null   object \n",
      " 3   Driver_Nationality      4537 non-null   object \n",
      " 4   Driver_Name             4537 non-null   object \n",
      " 5   Race_Year               4537 non-null   int64  \n",
      " 6   Race_Name               4537 non-null   object \n",
      " 7   Contractor              4537 non-null   object \n",
      " 8   Contractor_Nationality  4537 non-null   object \n",
      " 9   Age                     4537 non-null   int64  \n",
      "dtypes: float64(1), int64(3), object(6)\n",
      "memory usage: 389.9+ KB\n"
     ]
    }
   ],
   "source": [
    "clean_data.info()"
   ]
  },
  {
   "cell_type": "code",
   "execution_count": 5,
   "metadata": {},
   "outputs": [
    {
     "data": {
      "text/plain": [
       "(4537, 10)"
      ]
     },
     "execution_count": 5,
     "metadata": {},
     "output_type": "execute_result"
    }
   ],
   "source": [
    "clean_data.shape"
   ]
  },
  {
   "cell_type": "code",
   "execution_count": 6,
   "metadata": {},
   "outputs": [
    {
     "data": {
      "text/html": [
       "<div>\n",
       "<style scoped>\n",
       "    .dataframe tbody tr th:only-of-type {\n",
       "        vertical-align: middle;\n",
       "    }\n",
       "\n",
       "    .dataframe tbody tr th {\n",
       "        vertical-align: top;\n",
       "    }\n",
       "\n",
       "    .dataframe thead th {\n",
       "        text-align: right;\n",
       "    }\n",
       "</style>\n",
       "<table border=\"1\" class=\"dataframe\">\n",
       "  <thead>\n",
       "    <tr style=\"text-align: right;\">\n",
       "      <th></th>\n",
       "      <th>Position</th>\n",
       "      <th>Points</th>\n",
       "      <th>Race_Year</th>\n",
       "      <th>Age</th>\n",
       "    </tr>\n",
       "  </thead>\n",
       "  <tbody>\n",
       "    <tr>\n",
       "      <th>count</th>\n",
       "      <td>4537.000000</td>\n",
       "      <td>4537.000000</td>\n",
       "      <td>4537.000000</td>\n",
       "      <td>4537.000000</td>\n",
       "    </tr>\n",
       "    <tr>\n",
       "      <th>mean</th>\n",
       "      <td>11.370730</td>\n",
       "      <td>4.703989</td>\n",
       "      <td>2014.694732</td>\n",
       "      <td>33.105576</td>\n",
       "    </tr>\n",
       "    <tr>\n",
       "      <th>std</th>\n",
       "      <td>6.349402</td>\n",
       "      <td>7.097542</td>\n",
       "      <td>3.087288</td>\n",
       "      <td>6.196809</td>\n",
       "    </tr>\n",
       "    <tr>\n",
       "      <th>min</th>\n",
       "      <td>1.000000</td>\n",
       "      <td>0.000000</td>\n",
       "      <td>2010.000000</td>\n",
       "      <td>20.000000</td>\n",
       "    </tr>\n",
       "    <tr>\n",
       "      <th>25%</th>\n",
       "      <td>6.000000</td>\n",
       "      <td>0.000000</td>\n",
       "      <td>2012.000000</td>\n",
       "      <td>29.000000</td>\n",
       "    </tr>\n",
       "    <tr>\n",
       "      <th>50%</th>\n",
       "      <td>11.000000</td>\n",
       "      <td>0.000000</td>\n",
       "      <td>2015.000000</td>\n",
       "      <td>33.000000</td>\n",
       "    </tr>\n",
       "    <tr>\n",
       "      <th>75%</th>\n",
       "      <td>17.000000</td>\n",
       "      <td>8.000000</td>\n",
       "      <td>2017.000000</td>\n",
       "      <td>37.000000</td>\n",
       "    </tr>\n",
       "    <tr>\n",
       "      <th>max</th>\n",
       "      <td>24.000000</td>\n",
       "      <td>50.000000</td>\n",
       "      <td>2020.000000</td>\n",
       "      <td>51.000000</td>\n",
       "    </tr>\n",
       "  </tbody>\n",
       "</table>\n",
       "</div>"
      ],
      "text/plain": [
       "          Position       Points    Race_Year          Age\n",
       "count  4537.000000  4537.000000  4537.000000  4537.000000\n",
       "mean     11.370730     4.703989  2014.694732    33.105576\n",
       "std       6.349402     7.097542     3.087288     6.196809\n",
       "min       1.000000     0.000000  2010.000000    20.000000\n",
       "25%       6.000000     0.000000  2012.000000    29.000000\n",
       "50%      11.000000     0.000000  2015.000000    33.000000\n",
       "75%      17.000000     8.000000  2017.000000    37.000000\n",
       "max      24.000000    50.000000  2020.000000    51.000000"
      ]
     },
     "execution_count": 6,
     "metadata": {},
     "output_type": "execute_result"
    }
   ],
   "source": [
    "clean_data.describe()"
   ]
  },
  {
   "cell_type": "markdown",
   "metadata": {},
   "source": [
    "# Data by Nationality\n",
    "\n",
    "![title](nationality.jpg)\n",
    "\n",
    "How does Lewis Hamilton's sucess contribute to Nationality Data?\n",
    "\n",
    "From a nationality standpoint, Germany leads in almost all regards. German Drivers and Contractors lead all other nations in Total Points Accumlated in Grand Prix's from 2010-2020. German Contractors also lead in Total Wins for Grand Prix's from 2010-2020. However, the data is clear that Britain Driver's lead in Total Wins for Grand Prix's from 2010-2020. This shift is caused by Lewis Hamilton, a British driver for a German Contractor, Mercedes. Hamilton drove for McLaren until 2013, where he only won a sinlge World Championship Title, after moving to Mercedes, he proceeded to win 5 more titles further winning for British Drivers and German Contractors.\n",
    "\n",
    "The data would suggest that driving a car from a German Contractor could lead to higher success. This could be because of Germany's long history in formula 1 racing and/or that Germany often has a home field advantage. More races occur in Germany than any other country. "
   ]
  },
  {
   "cell_type": "code",
   "execution_count": 7,
   "metadata": {},
   "outputs": [
    {
     "data": {
      "text/html": [
       "<div>\n",
       "<style scoped>\n",
       "    .dataframe tbody tr th:only-of-type {\n",
       "        vertical-align: middle;\n",
       "    }\n",
       "\n",
       "    .dataframe tbody tr th {\n",
       "        vertical-align: top;\n",
       "    }\n",
       "\n",
       "    .dataframe thead th {\n",
       "        text-align: right;\n",
       "    }\n",
       "</style>\n",
       "<table border=\"1\" class=\"dataframe\">\n",
       "  <thead>\n",
       "    <tr style=\"text-align: right;\">\n",
       "      <th></th>\n",
       "      <th>Driver_Nationality</th>\n",
       "      <th>DriverN_TTL_PTS</th>\n",
       "      <th>DriverN_TTL_Wins</th>\n",
       "    </tr>\n",
       "  </thead>\n",
       "  <tbody>\n",
       "    <tr>\n",
       "      <th>107</th>\n",
       "      <td>British</td>\n",
       "      <td>4583.0</td>\n",
       "      <td>89</td>\n",
       "    </tr>\n",
       "    <tr>\n",
       "      <th>2062</th>\n",
       "      <td>Venezuelan</td>\n",
       "      <td>76.0</td>\n",
       "      <td>1</td>\n",
       "    </tr>\n",
       "    <tr>\n",
       "      <th>4777</th>\n",
       "      <td>Spanish</td>\n",
       "      <td>1685.0</td>\n",
       "      <td>11</td>\n",
       "    </tr>\n",
       "    <tr>\n",
       "      <th>4972</th>\n",
       "      <td>German</td>\n",
       "      <td>5279.0</td>\n",
       "      <td>71</td>\n",
       "    </tr>\n",
       "    <tr>\n",
       "      <th>5123</th>\n",
       "      <td>Finnish</td>\n",
       "      <td>2750.0</td>\n",
       "      <td>12</td>\n",
       "    </tr>\n",
       "    <tr>\n",
       "      <th>5156</th>\n",
       "      <td>Monegasque</td>\n",
       "      <td>378.0</td>\n",
       "      <td>2</td>\n",
       "    </tr>\n",
       "    <tr>\n",
       "      <th>7392</th>\n",
       "      <td>Australian</td>\n",
       "      <td>1998.0</td>\n",
       "      <td>14</td>\n",
       "    </tr>\n",
       "    <tr>\n",
       "      <th>7623</th>\n",
       "      <td>Dutch</td>\n",
       "      <td>1110.0</td>\n",
       "      <td>9</td>\n",
       "    </tr>\n",
       "    <tr>\n",
       "      <th>11074</th>\n",
       "      <td>French</td>\n",
       "      <td>807.0</td>\n",
       "      <td>1</td>\n",
       "    </tr>\n",
       "  </tbody>\n",
       "</table>\n",
       "</div>"
      ],
      "text/plain": [
       "      Driver_Nationality  DriverN_TTL_PTS  DriverN_TTL_Wins\n",
       "107              British           4583.0                89\n",
       "2062          Venezuelan             76.0                 1\n",
       "4777             Spanish           1685.0                11\n",
       "4972              German           5279.0                71\n",
       "5123             Finnish           2750.0                12\n",
       "5156          Monegasque            378.0                 2\n",
       "7392          Australian           1998.0                14\n",
       "7623               Dutch           1110.0                 9\n",
       "11074             French            807.0                 1"
      ]
     },
     "execution_count": 7,
     "metadata": {},
     "output_type": "execute_result"
    }
   ],
   "source": [
    "#create dataframes for nationality\n",
    "\n",
    "#driver nationality\n",
    "driver_nationality= clean_data\n",
    "driver_nationality['DriverN_TTL_PTS']=driver_nationality.groupby(by='Driver_Nationality')['Points'].transform('sum').sort_values()\n",
    "driver_nationality = driver_nationality.loc[clean_data['Position']==1]\n",
    "driver_nationality['DriverN_TTL_Wins']=driver_nationality.groupby(by='Driver_Nationality')['Position'].transform('count').sort_values()\n",
    "d_nation = driver_nationality.drop_duplicates(subset=['Driver_Nationality'])\n",
    "\n",
    "driver_nation = d_nation [['Driver_Nationality','DriverN_TTL_PTS','DriverN_TTL_Wins']].copy()\n",
    "driver_nation"
   ]
  },
  {
   "cell_type": "code",
   "execution_count": 8,
   "metadata": {},
   "outputs": [
    {
     "data": {
      "image/png": "[encoded data removed]",
      "text/plain": [
       "<Figure size 1008x576 with 1 Axes>"
      ]
     },
     "metadata": {
      "needs_background": "light"
     },
     "output_type": "display_data"
    }
   ],
   "source": [
    "fig1 = driver_nation.plot.barh(x='Driver_Nationality', y='DriverN_TTL_PTS', figsize=(14, 8),color='darkturquoise')\n",
    "\n",
    "plt.title(\"Total Points by Driver Nationality\",fontsize=25,fontname='bauhaus 93')\n",
    "plt.ylabel('Driver Nationality',fontsize = 18, fontname='bauhaus 93')\n",
    "plt.xlabel('Total Points for Grand Prix 2010 - 2020',fontsize = 18,fontname='bauhaus 93')\n",
    "plt.yticks(fontname = \"gill sans mt\")\n",
    "plt.xticks(fontname = \"gill sans mt\")\n",
    "plt.legend(['Total Points'])\n",
    "plt.grid(color='gainsboro')\n",
    "\n",
    "plt.show()"
   ]
  },
  {
   "cell_type": "code",
   "execution_count": 9,
   "metadata": {},
   "outputs": [
    {
     "data": {
      "text/html": [
       "<div>\n",
       "<style scoped>\n",
       "    .dataframe tbody tr th:only-of-type {\n",
       "        vertical-align: middle;\n",
       "    }\n",
       "\n",
       "    .dataframe tbody tr th {\n",
       "        vertical-align: top;\n",
       "    }\n",
       "\n",
       "    .dataframe thead th {\n",
       "        text-align: right;\n",
       "    }\n",
       "</style>\n",
       "<table border=\"1\" class=\"dataframe\">\n",
       "  <thead>\n",
       "    <tr style=\"text-align: right;\">\n",
       "      <th></th>\n",
       "      <th>Contractor</th>\n",
       "      <th>Contractor_Nationality</th>\n",
       "      <th>ConN_TTL_PTS</th>\n",
       "      <th>ConN_TTL_Wins</th>\n",
       "    </tr>\n",
       "  </thead>\n",
       "  <tbody>\n",
       "    <tr>\n",
       "      <th>107</th>\n",
       "      <td>McLaren</td>\n",
       "      <td>British</td>\n",
       "      <td>3978.0</td>\n",
       "      <td>21</td>\n",
       "    </tr>\n",
       "    <tr>\n",
       "      <th>4777</th>\n",
       "      <td>Ferrari</td>\n",
       "      <td>Italian</td>\n",
       "      <td>4840.0</td>\n",
       "      <td>29</td>\n",
       "    </tr>\n",
       "    <tr>\n",
       "      <th>7389</th>\n",
       "      <td>Red Bull</td>\n",
       "      <td>Austrian</td>\n",
       "      <td>4694.0</td>\n",
       "      <td>57</td>\n",
       "    </tr>\n",
       "    <tr>\n",
       "      <th>8602</th>\n",
       "      <td>Mercedes</td>\n",
       "      <td>German</td>\n",
       "      <td>5547.0</td>\n",
       "      <td>103</td>\n",
       "    </tr>\n",
       "  </tbody>\n",
       "</table>\n",
       "</div>"
      ],
      "text/plain": [
       "     Contractor Contractor_Nationality  ConN_TTL_PTS  ConN_TTL_Wins\n",
       "107     McLaren                British        3978.0             21\n",
       "4777    Ferrari                Italian        4840.0             29\n",
       "7389   Red Bull               Austrian        4694.0             57\n",
       "8602   Mercedes                 German        5547.0            103"
      ]
     },
     "execution_count": 9,
     "metadata": {},
     "output_type": "execute_result"
    }
   ],
   "source": [
    "#contractor nationality\n",
    "contractor_nationality= clean_data\n",
    "contractor_nationality['ConN_TTL_PTS']=contractor_nationality.groupby(by='Contractor_Nationality')['Points'].transform('sum').sort_values()\n",
    "contractor_nationality = contractor_nationality.loc[clean_data['Position']==1]\n",
    "contractor_nationality['ConN_TTL_Wins']=contractor_nationality.groupby(by='Contractor_Nationality')['Position'].transform('count').sort_values()\n",
    "c_nation = contractor_nationality.drop_duplicates(subset=['Contractor_Nationality'])\n",
    "\n",
    "contract_nation = c_nation [['Contractor','Contractor_Nationality','ConN_TTL_PTS','ConN_TTL_Wins']].copy()\n",
    "contract_nation"
   ]
  },
  {
   "cell_type": "code",
   "execution_count": 10,
   "metadata": {},
   "outputs": [
    {
     "data": {
      "image/png": "[encoded data removed]",
      "text/plain": [
       "<Figure size 1008x576 with 1 Axes>"
      ]
     },
     "metadata": {
      "needs_background": "light"
     },
     "output_type": "display_data"
    }
   ],
   "source": [
    "fig2 = contract_nation.plot.barh(x='Contractor_Nationality', y='ConN_TTL_PTS', figsize=(14, 8),color='darkturquoise')\n",
    "\n",
    "plt.title(\"Total Points by Contractor Nationality\",fontsize=25,fontname='bauhaus 93')\n",
    "plt.ylabel('Contractor Nationality',fontsize = 18, fontname='bauhaus 93')\n",
    "plt.xlabel('Total Points for Grand Prix 2010 - 2020',fontsize = 18,fontname='bauhaus 93')\n",
    "plt.yticks(fontname = \"gill sans mt\")\n",
    "plt.xticks(fontname = \"gill sans mt\")\n",
    "plt.legend(['Total Points'])\n",
    "plt.grid(color='gainsboro')\n",
    "\n",
    "plt.show()"
   ]
  },
  {
   "cell_type": "code",
   "execution_count": 14,
   "metadata": {},
   "outputs": [
    {
     "data": {
      "image/png": "[encoded data removed]",
      "text/plain": [
       "<Figure size 1008x576 with 1 Axes>"
      ]
     },
     "metadata": {
      "needs_background": "light"
     },
     "output_type": "display_data"
    }
   ],
   "source": [
    "fig3 = driver_nation.plot.barh(x='Driver_Nationality', y='DriverN_TTL_Wins', figsize=(14, 8),color='darkturquoise')\n",
    "\n",
    "plt.title(\"Total Wins by Driver Nationality\",fontsize=25,fontname='bauhaus 93')\n",
    "plt.ylabel('Driver Nationality',fontsize = 18, fontname='bauhaus 93')\n",
    "plt.xlabel('Total Wins for Grand Prix 2010 - 2020',fontsize = 18,fontname='bauhaus 93')\n",
    "plt.yticks(fontname = \"gill sans mt\")\n",
    "plt.xticks(fontname = \"gill sans mt\")\n",
    "plt.legend(['Total Points'])\n",
    "plt.grid(color='gainsboro')\n",
    "\n",
    "plt.show()"
   ]
  },
  {
   "cell_type": "code",
   "execution_count": 15,
   "metadata": {},
   "outputs": [
    {
     "data": {
      "image/png": "[encoded data removed]",
      "text/plain": [
       "<Figure size 1008x576 with 1 Axes>"
      ]
     },
     "metadata": {
      "needs_background": "light"
     },
     "output_type": "display_data"
    }
   ],
   "source": [
    "fig4 = contract_nation.plot.barh(x='Contractor_Nationality', y='ConN_TTL_Wins', figsize=(14, 8),color='darkturquoise')\n",
    "\n",
    "plt.title(\"Total Wins by Contractor Nationality\",fontsize=25,fontname='bauhaus 93')\n",
    "plt.ylabel('Contractor Nationality',fontsize = 18, fontname='bauhaus 93')\n",
    "plt.xlabel('Total Wins for Grand Prix 2010 - 2020',fontsize = 18,fontname='bauhaus 93')\n",
    "plt.yticks(fontname = \"gill sans mt\")\n",
    "plt.xticks(fontname = \"gill sans mt\")\n",
    "plt.legend(['Total Points'])\n",
    "plt.grid(color='gainsboro')\n",
    "\n",
    "plt.show()"
   ]
  },
  {
   "cell_type": "code",
   "execution_count": 13,
   "metadata": {},
   "outputs": [
    {
     "data": {
      "application/vnd.jupyter.widget-view+json": {
       "model_id": "8ed20256d1ac47bc9ae5caaedd94030c",
       "version_major": 2,
       "version_minor": 0
      },
      "text/plain": [
       "Figure(layout=FigureLayout(height='420px'))"
      ]
     },
     "metadata": {},
     "output_type": "display_data"
    }
   ],
   "source": [
    "#read in race location data\n",
    "race_loc = pd.read_csv(\"Resources/circuits.csv\")\n",
    "\n",
    "# configure heat map\n",
    "city_locations = race_loc[[\"lat\", \"lng\",]]\n",
    "gmaps.configure(api_key=g_key)\n",
    "fig = gmaps.figure(center=(48.0, 6.0), zoom_level=4)\n",
    "\n",
    "heat_layer = gmaps.heatmap_layer(city_locations,\n",
    "                                 dissipating=False,\n",
    "                                 point_radius=3)\n",
    "fig.add_layer(heat_layer)\n",
    "fig"
   ]
  },
  {
   "cell_type": "code",
   "execution_count": null,
   "metadata": {},
   "outputs": [],
   "source": []
  }
 ],
 "metadata": {
  "kernelspec": {
   "display_name": "Python 3",
   "language": "python",
   "name": "python3"
  },
  "language_info": {
   "codemirror_mode": {
    "name": "ipython",
    "version": 3
   },
   "file_extension": ".py",
   "mimetype": "text/x-python",
   "name": "python",
   "nbconvert_exporter": "python",
   "pygments_lexer": "ipython3",
   "version": "3.8.3"
  }
 },
 "nbformat": 4,
 "nbformat_minor": 4
}
